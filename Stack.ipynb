{
 "cells": [
  {
   "cell_type": "code",
   "execution_count": 1,
   "id": "942b8066",
   "metadata": {},
   "outputs": [],
   "source": [
    "s = []\n",
    "s.append(\"Captain America\")\n",
    "s.append(\"Black Widow\")\n",
    "s.append(\"Iron Man\")\n",
    "s.append(\"Hulk\")\n",
    "s.append(\"The Winter Soldier\")\n",
    "s.append(\"Thor God of Thunder\")"
   ]
  },
  {
   "cell_type": "code",
   "execution_count": 2,
   "id": "91a059a8",
   "metadata": {},
   "outputs": [
    {
     "data": {
      "text/plain": [
       "['Captain America',\n",
       " 'Black Widow',\n",
       " 'Iron Man',\n",
       " 'Hulk',\n",
       " 'The Winter Soldier',\n",
       " 'Thor God of Thunder']"
      ]
     },
     "execution_count": 2,
     "metadata": {},
     "output_type": "execute_result"
    }
   ],
   "source": [
    "s"
   ]
  },
  {
   "cell_type": "code",
   "execution_count": 3,
   "id": "34c5424e",
   "metadata": {},
   "outputs": [
    {
     "data": {
      "text/plain": [
       "'Thor God of Thunder'"
      ]
     },
     "execution_count": 3,
     "metadata": {},
     "output_type": "execute_result"
    }
   ],
   "source": [
    "s.pop()"
   ]
  },
  {
   "cell_type": "code",
   "execution_count": 7,
   "id": "3473d251",
   "metadata": {},
   "outputs": [],
   "source": [
    "s.append(\"Thor love and Thunder\")"
   ]
  },
  {
   "cell_type": "code",
   "execution_count": 9,
   "id": "4ce51d16",
   "metadata": {},
   "outputs": [],
   "source": [
    "#The pop attribute remove the top most or the newest element from the stack"
   ]
  },
  {
   "cell_type": "code",
   "execution_count": 11,
   "id": "7a83e4a5",
   "metadata": {},
   "outputs": [
    {
     "data": {
      "text/plain": [
       "'Thor love and Thunder'"
      ]
     },
     "execution_count": 11,
     "metadata": {},
     "output_type": "execute_result"
    }
   ],
   "source": [
    "s.pop()"
   ]
  },
  {
   "cell_type": "code",
   "execution_count": 12,
   "id": "1054b195",
   "metadata": {},
   "outputs": [],
   "source": [
    "from collections import deque\n",
    "stack  = deque()"
   ]
  },
  {
   "cell_type": "code",
   "execution_count": 13,
   "id": "a6d2d599",
   "metadata": {},
   "outputs": [],
   "source": [
    "stack.append(\"Despacito\")"
   ]
  },
  {
   "cell_type": "code",
   "execution_count": 14,
   "id": "93a43fa5",
   "metadata": {},
   "outputs": [
    {
     "data": {
      "text/plain": [
       "deque(['Despacito'])"
      ]
     },
     "execution_count": 14,
     "metadata": {},
     "output_type": "execute_result"
    }
   ],
   "source": [
    "stack\n"
   ]
  },
  {
   "cell_type": "code",
   "execution_count": 15,
   "id": "04db6ffc",
   "metadata": {},
   "outputs": [],
   "source": [
    "stack.append(\"On My Way\")"
   ]
  },
  {
   "cell_type": "code",
   "execution_count": 16,
   "id": "3c325997",
   "metadata": {},
   "outputs": [
    {
     "data": {
      "text/plain": [
       "deque(['Despacito', 'On My Way'])"
      ]
     },
     "execution_count": 16,
     "metadata": {},
     "output_type": "execute_result"
    }
   ],
   "source": [
    "stack"
   ]
  },
  {
   "cell_type": "code",
   "execution_count": 17,
   "id": "0b790646",
   "metadata": {},
   "outputs": [
    {
     "data": {
      "text/plain": [
       "['__add__',\n",
       " '__bool__',\n",
       " '__class__',\n",
       " '__class_getitem__',\n",
       " '__contains__',\n",
       " '__copy__',\n",
       " '__delattr__',\n",
       " '__delitem__',\n",
       " '__dir__',\n",
       " '__doc__',\n",
       " '__eq__',\n",
       " '__format__',\n",
       " '__ge__',\n",
       " '__getattribute__',\n",
       " '__getitem__',\n",
       " '__gt__',\n",
       " '__hash__',\n",
       " '__iadd__',\n",
       " '__imul__',\n",
       " '__init__',\n",
       " '__init_subclass__',\n",
       " '__iter__',\n",
       " '__le__',\n",
       " '__len__',\n",
       " '__lt__',\n",
       " '__mul__',\n",
       " '__ne__',\n",
       " '__new__',\n",
       " '__reduce__',\n",
       " '__reduce_ex__',\n",
       " '__repr__',\n",
       " '__reversed__',\n",
       " '__rmul__',\n",
       " '__setattr__',\n",
       " '__setitem__',\n",
       " '__sizeof__',\n",
       " '__str__',\n",
       " '__subclasshook__',\n",
       " 'append',\n",
       " 'appendleft',\n",
       " 'clear',\n",
       " 'copy',\n",
       " 'count',\n",
       " 'extend',\n",
       " 'extendleft',\n",
       " 'index',\n",
       " 'insert',\n",
       " 'maxlen',\n",
       " 'pop',\n",
       " 'popleft',\n",
       " 'remove',\n",
       " 'reverse',\n",
       " 'rotate']"
      ]
     },
     "execution_count": 17,
     "metadata": {},
     "output_type": "execute_result"
    }
   ],
   "source": [
    "dir(stack)"
   ]
  },
  {
   "cell_type": "code",
   "execution_count": 18,
   "id": "9273d7ff",
   "metadata": {},
   "outputs": [],
   "source": [
    "stack.appendleft(\"Faded\")"
   ]
  },
  {
   "cell_type": "code",
   "execution_count": 19,
   "id": "a0e99236",
   "metadata": {},
   "outputs": [
    {
     "data": {
      "text/plain": [
       "deque(['Faded', 'Despacito', 'On My Way'])"
      ]
     },
     "execution_count": 19,
     "metadata": {},
     "output_type": "execute_result"
    }
   ],
   "source": [
    "stack"
   ]
  },
  {
   "cell_type": "code",
   "execution_count": 20,
   "id": "7d1f6ce7",
   "metadata": {},
   "outputs": [
    {
     "data": {
      "text/plain": [
       "'On My Way'"
      ]
     },
     "execution_count": 20,
     "metadata": {},
     "output_type": "execute_result"
    }
   ],
   "source": [
    "stack.pop()"
   ]
  },
  {
   "cell_type": "code",
   "execution_count": 21,
   "id": "de7b1218",
   "metadata": {},
   "outputs": [
    {
     "data": {
      "text/plain": [
       "deque(['Faded', 'Despacito'])"
      ]
     },
     "execution_count": 21,
     "metadata": {},
     "output_type": "execute_result"
    }
   ],
   "source": [
    "stack"
   ]
  },
  {
   "cell_type": "code",
   "execution_count": 22,
   "id": "4fb0fdf8",
   "metadata": {},
   "outputs": [
    {
     "data": {
      "text/plain": [
       "'Faded'"
      ]
     },
     "execution_count": 22,
     "metadata": {},
     "output_type": "execute_result"
    }
   ],
   "source": [
    "stack.popleft()"
   ]
  },
  {
   "cell_type": "code",
   "execution_count": 23,
   "id": "549aed38",
   "metadata": {},
   "outputs": [
    {
     "data": {
      "text/plain": [
       "deque(['Despacito'])"
      ]
     },
     "execution_count": 23,
     "metadata": {},
     "output_type": "execute_result"
    }
   ],
   "source": [
    "stack"
   ]
  },
  {
   "cell_type": "code",
   "execution_count": 39,
   "id": "ea2cd8c9",
   "metadata": {},
   "outputs": [],
   "source": [
    "class Stack:\n",
    "    def __init__(self):\n",
    "        self.container = deque()\n",
    "    def push(self,value):\n",
    "        return self.container.append(value)\n",
    "    def pop(self):\n",
    "        return self.container.pop()\n",
    "    def peek(self):\n",
    "        return self.container.peek[-1]\n",
    "    def is_empty(self):\n",
    "        return len(self.container) == 0\n",
    "    def size(self):\n",
    "        return len(self.container)"
   ]
  },
  {
   "cell_type": "code",
   "execution_count": 40,
   "id": "4f594d84",
   "metadata": {},
   "outputs": [],
   "source": [
    "s = Stack()\n",
    "s.push(\"Hello\")"
   ]
  },
  {
   "cell_type": "code",
   "execution_count": 41,
   "id": "795de1b3",
   "metadata": {},
   "outputs": [
    {
     "data": {
      "text/plain": [
       "False"
      ]
     },
     "execution_count": 41,
     "metadata": {},
     "output_type": "execute_result"
    }
   ],
   "source": [
    "s.is_empty()"
   ]
  },
  {
   "cell_type": "code",
   "execution_count": 42,
   "id": "e0632911",
   "metadata": {},
   "outputs": [
    {
     "data": {
      "text/plain": [
       "'Hello'"
      ]
     },
     "execution_count": 42,
     "metadata": {},
     "output_type": "execute_result"
    }
   ],
   "source": [
    "s.pop()"
   ]
  },
  {
   "cell_type": "code",
   "execution_count": 43,
   "id": "041148d9",
   "metadata": {},
   "outputs": [
    {
     "data": {
      "text/plain": [
       "True"
      ]
     },
     "execution_count": 43,
     "metadata": {},
     "output_type": "execute_result"
    }
   ],
   "source": [
    "s.is_empty()"
   ]
  },
  {
   "cell_type": "code",
   "execution_count": null,
   "id": "e2bf8814",
   "metadata": {},
   "outputs": [],
   "source": []
  }
 ],
 "metadata": {
  "kernelspec": {
   "display_name": "Python 3 (ipykernel)",
   "language": "python",
   "name": "python3"
  },
  "language_info": {
   "codemirror_mode": {
    "name": "ipython",
    "version": 3
   },
   "file_extension": ".py",
   "mimetype": "text/x-python",
   "name": "python",
   "nbconvert_exporter": "python",
   "pygments_lexer": "ipython3",
   "version": "3.9.12"
  }
 },
 "nbformat": 4,
 "nbformat_minor": 5
}
