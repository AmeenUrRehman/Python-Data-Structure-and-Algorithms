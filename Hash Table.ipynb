{
 "cells": [
  {
   "cell_type": "code",
   "execution_count": 1,
   "id": "4257b54f",
   "metadata": {},
   "outputs": [],
   "source": [
    "stock_prices = []\n",
    "with open(\"stock_prices.csv\") as f:\n",
    "    for line in f:\n",
    "        day,price = line.split(',')\n",
    "        price = float(price)\n",
    "        stock_prices.append([day,price])"
   ]
  },
  {
   "cell_type": "code",
   "execution_count": 2,
   "id": "e576320b",
   "metadata": {},
   "outputs": [
    {
     "data": {
      "text/plain": [
       "[['march 6', 310.0],\n",
       " ['march 7', 340.0],\n",
       " ['march 8', 380.0],\n",
       " ['march 9', 302.0],\n",
       " ['march 10', 297.0],\n",
       " ['march 11', 323.0]]"
      ]
     },
     "execution_count": 2,
     "metadata": {},
     "output_type": "execute_result"
    }
   ],
   "source": [
    "stock_prices"
   ]
  },
  {
   "cell_type": "code",
   "execution_count": 4,
   "id": "d383c42e",
   "metadata": {},
   "outputs": [
    {
     "name": "stdout",
     "output_type": "stream",
     "text": [
      "302.0\n"
     ]
    }
   ],
   "source": [
    "for element in stock_prices:\n",
    "    if element[0] == 'march 9':\n",
    "        print(element[1])"
   ]
  },
  {
   "cell_type": "code",
   "execution_count": 11,
   "id": "74c586a2",
   "metadata": {},
   "outputs": [
    {
     "data": {
      "text/plain": [
       "{'march 6': 310.0,\n",
       " 'march 7': 340.0,\n",
       " 'march 8': 380.0,\n",
       " 'march 9': 302.0,\n",
       " 'march 10': 297.0,\n",
       " 'march 11': 323.0}"
      ]
     },
     "execution_count": 11,
     "metadata": {},
     "output_type": "execute_result"
    }
   ],
   "source": [
    "stock_prices = {}\n",
    "with open(\"stock_prices.csv\") as f:\n",
    "    for line in f:\n",
    "        day,price = line.split(\",\")\n",
    "        price = float(price)\n",
    "        stock_prices[day] = price\n",
    "stock_prices"
   ]
  },
  {
   "cell_type": "code",
   "execution_count": 13,
   "id": "4d2e910d",
   "metadata": {},
   "outputs": [
    {
     "data": {
      "text/plain": [
       "323.0"
      ]
     },
     "execution_count": 13,
     "metadata": {},
     "output_type": "execute_result"
    }
   ],
   "source": [
    "stock_prices['march 11']"
   ]
  },
  {
   "cell_type": "code",
   "execution_count": 16,
   "id": "dc907dce",
   "metadata": {},
   "outputs": [
    {
     "data": {
      "text/plain": [
       "109"
      ]
     },
     "execution_count": 16,
     "metadata": {},
     "output_type": "execute_result"
    }
   ],
   "source": [
    "ord('m')"
   ]
  },
  {
   "cell_type": "code",
   "execution_count": 18,
   "id": "d64ebc37",
   "metadata": {},
   "outputs": [],
   "source": [
    "def get_hash(key):\n",
    "    sum = 0\n",
    "    for c in key:\n",
    "        sum += ord(c)\n",
    "    return sum % 100"
   ]
  },
  {
   "cell_type": "code",
   "execution_count": 19,
   "id": "432553e7",
   "metadata": {},
   "outputs": [
    {
     "data": {
      "text/plain": [
       "12"
      ]
     },
     "execution_count": 19,
     "metadata": {},
     "output_type": "execute_result"
    }
   ],
   "source": [
    "get_hash('march 9')"
   ]
  },
  {
   "cell_type": "code",
   "execution_count": 35,
   "id": "bfb0eaa0",
   "metadata": {},
   "outputs": [],
   "source": [
    "class HashTable:\n",
    "    def __init__(self):\n",
    "        self.MAX = 100\n",
    "        self.arr = [None]*self.MAX\n",
    "    def get_hash(self , key):\n",
    "        sum = 0\n",
    "        for c in key:\n",
    "            sum += ord(c)\n",
    "        return sum % self.MAX\n",
    "    def __setitem__(self,key,val):\n",
    "         h = self.get_hash(key)\n",
    "         self.arr[h] = val\n",
    "    def __getitem__(self,key):\n",
    "        h = self.get_hash(key)\n",
    "        return self.arr[h]\n",
    "    def __delitem__(self, key):\n",
    "        h = self.get_hash(key)\n",
    "        self.arr[h] = None\n",
    "    "
   ]
  },
  {
   "cell_type": "code",
   "execution_count": 36,
   "id": "47156eea",
   "metadata": {},
   "outputs": [],
   "source": [
    "h = HashTable()"
   ]
  },
  {
   "cell_type": "code",
   "execution_count": 41,
   "id": "7d6df4eb",
   "metadata": {},
   "outputs": [],
   "source": [
    "h['march 15'] = 99\n"
   ]
  },
  {
   "cell_type": "code",
   "execution_count": 44,
   "id": "9e0f64ae",
   "metadata": {},
   "outputs": [],
   "source": [
    "del h['march 9'] "
   ]
  },
  {
   "cell_type": "code",
   "execution_count": 49,
   "id": "d4ab01d1",
   "metadata": {},
   "outputs": [
    {
     "data": {
      "text/plain": [
       "99"
      ]
     },
     "execution_count": 49,
     "metadata": {},
     "output_type": "execute_result"
    }
   ],
   "source": [
    "h['march 15']"
   ]
  },
  {
   "cell_type": "code",
   "execution_count": 48,
   "id": "da85a45f",
   "metadata": {},
   "outputs": [
    {
     "data": {
      "text/plain": [
       "{'march 6': 310.0,\n",
       " 'march 7': 340.0,\n",
       " 'march 8': 380.0,\n",
       " 'march 9': 302.0,\n",
       " 'march 10': 297.0,\n",
       " 'march 11': 323.0}"
      ]
     },
     "execution_count": 48,
     "metadata": {},
     "output_type": "execute_result"
    }
   ],
   "source": [
    "stock_prices"
   ]
  },
  {
   "cell_type": "code",
   "execution_count": null,
   "id": "c0255a50",
   "metadata": {},
   "outputs": [],
   "source": []
  }
 ],
 "metadata": {
  "kernelspec": {
   "display_name": "Python 3 (ipykernel)",
   "language": "python",
   "name": "python3"
  },
  "language_info": {
   "codemirror_mode": {
    "name": "ipython",
    "version": 3
   },
   "file_extension": ".py",
   "mimetype": "text/x-python",
   "name": "python",
   "nbconvert_exporter": "python",
   "pygments_lexer": "ipython3",
   "version": "3.9.12"
  }
 },
 "nbformat": 4,
 "nbformat_minor": 5
}
